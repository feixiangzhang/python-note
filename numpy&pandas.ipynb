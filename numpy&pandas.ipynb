{
 "cells": [
  {
   "cell_type": "markdown",
   "metadata": {},
   "source": [
    "### numpy的引入，是因为它的ndarray 计算效率要大大优于python自身的数组计算"
   ]
  },
  {
   "cell_type": "code",
   "execution_count": 1,
   "metadata": {
    "ExecuteTime": {
     "end_time": "2019-07-22T02:40:13.793558Z",
     "start_time": "2019-07-22T02:40:13.788557Z"
    }
   },
   "outputs": [],
   "source": [
    "import numpy as np"
   ]
  },
  {
   "cell_type": "markdown",
   "metadata": {},
   "source": [
    "#### numpy的核心当然就是ndarray了，这里主要介绍5个创建多维数组ndarray的方法，"
   ]
  },
  {
   "cell_type": "code",
   "execution_count": 2,
   "metadata": {
    "ExecuteTime": {
     "end_time": "2019-07-22T02:41:01.437283Z",
     "start_time": "2019-07-22T02:41:01.405281Z"
    },
    "scrolled": true
   },
   "outputs": [
    {
     "data": {
      "text/plain": [
       "array([[1, 2, 3],\n",
       "       [4, 5, 6]])"
      ]
     },
     "execution_count": 2,
     "metadata": {},
     "output_type": "execute_result"
    }
   ],
   "source": [
    "#将二维数组转换为 ndarray\n",
    "a1 =  np.array([[1,2,3],[4,5,6]])\n",
    "a1   "
   ]
  },
  {
   "cell_type": "code",
   "execution_count": 10,
   "metadata": {
    "ExecuteTime": {
     "end_time": "2019-07-22T02:46:36.811465Z",
     "start_time": "2019-07-22T02:46:36.802464Z"
    }
   },
   "outputs": [
    {
     "data": {
      "text/plain": [
       "array([[1., 1., 1.],\n",
       "       [1., 1., 1.]])"
      ]
     },
     "execution_count": 10,
     "metadata": {},
     "output_type": "execute_result"
    }
   ],
   "source": [
    "a2 = np.ones((2,3)) #第二种生产ndarray的方法 也可以np.zeros((2,3))\n",
    "a2"
   ]
  },
  {
   "cell_type": "code",
   "execution_count": 15,
   "metadata": {
    "ExecuteTime": {
     "end_time": "2019-07-22T02:51:34.174473Z",
     "start_time": "2019-07-22T02:51:34.064467Z"
    },
    "scrolled": true
   },
   "outputs": [
    {
     "name": "stdout",
     "output_type": "stream",
     "text": [
      "[[-1.36354275 -0.5966398  -0.72543125  0.77659946]\n",
      " [-0.44147671 -0.61100333 -0.45587871  0.19609401]\n",
      " [ 0.98445832 -0.35537209 -0.22235292 -1.23798767]]\n"
     ]
    }
   ],
   "source": [
    "a3 = np.random.randn(3,4) #第三种生产ndarray的方法， 生产3行四列的，值服从标准正太分布 即均值为0 方差为1的正太分布\n",
    "print(a3)"
   ]
  },
  {
   "cell_type": "code",
   "execution_count": 16,
   "metadata": {
    "ExecuteTime": {
     "end_time": "2019-07-22T03:03:02.516844Z",
     "start_time": "2019-07-22T03:03:02.495843Z"
    }
   },
   "outputs": [
    {
     "data": {
      "text/plain": [
       "array([[0.65240337, 0.17189447, 0.70986102, 0.5304766 , 0.16295904],\n",
       "       [0.4136444 , 0.68882999, 0.49697891, 0.79412349, 0.97252221]])"
      ]
     },
     "execution_count": 16,
     "metadata": {},
     "output_type": "execute_result"
    }
   ],
   "source": [
    "a4 = np.random.rand(2,5) #第四种生产ndarray的方法，生产的数在 [0,1)之间\n",
    "a4"
   ]
  },
  {
   "cell_type": "code",
   "execution_count": 18,
   "metadata": {
    "ExecuteTime": {
     "end_time": "2019-07-22T03:06:04.017225Z",
     "start_time": "2019-07-22T03:06:04.005225Z"
    }
   },
   "outputs": [
    {
     "data": {
      "text/plain": [
       "array([[3, 2, 2],\n",
       "       [1, 1, 2]])"
      ]
     },
     "execution_count": 18,
     "metadata": {},
     "output_type": "execute_result"
    }
   ],
   "source": [
    "a5 = np.random.randint(1,5,size=(2,3)) #第5中生产ndarray的方法，其中参数的前两个制定，数值的范围，这里[1,5)之间的整数，维度通过size =()来指定\n",
    "a5"
   ]
  },
  {
   "cell_type": "code",
   "execution_count": 21,
   "metadata": {
    "ExecuteTime": {
     "end_time": "2019-07-22T03:12:00.777631Z",
     "start_time": "2019-07-22T03:12:00.771630Z"
    }
   },
   "outputs": [
    {
     "data": {
      "text/plain": [
       "array([[0.65240337, 0.17189447, 0.70986102, 0.5304766 , 0.16295904],\n",
       "       [0.4136444 , 0.68882999, 0.49697891, 0.79412349, 0.97252221]])"
      ]
     },
     "execution_count": 21,
     "metadata": {},
     "output_type": "execute_result"
    }
   ],
   "source": [
    "np.empty((2,5)) #这里有点坑要注意，看起来empty似乎是值都为空，但其实里面都是有随机数的"
   ]
  },
  {
   "cell_type": "markdown",
   "metadata": {},
   "source": [
    "#### 重要的属性和方法"
   ]
  },
  {
   "cell_type": "code",
   "execution_count": 6,
   "metadata": {
    "ExecuteTime": {
     "end_time": "2019-07-22T02:44:39.319745Z",
     "start_time": "2019-07-22T02:44:39.310744Z"
    },
    "scrolled": true
   },
   "outputs": [
    {
     "data": {
      "text/plain": [
       "(2, 3)"
      ]
     },
     "execution_count": 6,
     "metadata": {},
     "output_type": "execute_result"
    }
   ],
   "source": [
    "#最重要的一个属性shape 查看ndarray的维度,这里是二行三列\n",
    "a1.shape"
   ]
  },
  {
   "cell_type": "code",
   "execution_count": 30,
   "metadata": {
    "ExecuteTime": {
     "end_time": "2019-07-22T03:24:18.861847Z",
     "start_time": "2019-07-22T03:24:18.851846Z"
    }
   },
   "outputs": [
    {
     "data": {
      "text/plain": [
       "array([[0.94480792, 0.3042592 , 0.54590056, 0.95874383],\n",
       "       [0.99466323, 0.8596527 , 0.97232934, 0.19828298],\n",
       "       [0.77289658, 0.55684268, 0.01365015, 0.15260889]])"
      ]
     },
     "execution_count": 30,
     "metadata": {},
     "output_type": "execute_result"
    }
   ],
   "source": [
    "# reshape改变ndarray 的维度 ，这里有一个trick 可以使用 -1 让np去自动计算维度\n",
    "a6 = np.random.rand(2,6).reshape(3,4)\n",
    "a6"
   ]
  },
  {
   "cell_type": "code",
   "execution_count": 31,
   "metadata": {
    "ExecuteTime": {
     "end_time": "2019-07-22T03:25:35.709242Z",
     "start_time": "2019-07-22T03:25:35.700242Z"
    }
   },
   "outputs": [
    {
     "data": {
      "text/plain": [
       "array([[0.94480792, 0.3042592 ],\n",
       "       [0.54590056, 0.95874383],\n",
       "       [0.99466323, 0.8596527 ],\n",
       "       [0.97232934, 0.19828298],\n",
       "       [0.77289658, 0.55684268],\n",
       "       [0.01365015, 0.15260889]])"
      ]
     },
     "execution_count": 31,
     "metadata": {},
     "output_type": "execute_result"
    }
   ],
   "source": [
    "a6.reshape(6,-1)"
   ]
  },
  {
   "cell_type": "markdown",
   "metadata": {},
   "source": [
    "#### ndarray的运算"
   ]
  },
  {
   "cell_type": "code",
   "execution_count": 14,
   "metadata": {
    "ExecuteTime": {
     "end_time": "2019-07-22T02:48:30.757982Z",
     "start_time": "2019-07-22T02:48:30.748982Z"
    }
   },
   "outputs": [
    {
     "data": {
      "text/plain": [
       "array([[0.5, 1. , 1.5],\n",
       "       [2. , 2.5, 3. ]])"
      ]
     },
     "execution_count": 14,
     "metadata": {},
     "output_type": "execute_result"
    }
   ],
   "source": [
    "#numpy的 ndarray 具有广播性质 加减乘除操作 会广播到每个元素\n",
    "a1 / 2"
   ]
  },
  {
   "cell_type": "code",
   "execution_count": 13,
   "metadata": {
    "ExecuteTime": {
     "end_time": "2019-07-22T02:48:03.408418Z",
     "start_time": "2019-07-22T02:48:03.395417Z"
    }
   },
   "outputs": [
    {
     "data": {
      "text/plain": [
       "array([[2., 3., 4.],\n",
       "       [5., 6., 7.]])"
      ]
     },
     "execution_count": 13,
     "metadata": {},
     "output_type": "execute_result"
    }
   ],
   "source": [
    "a1+a2 #对应元素相加"
   ]
  },
  {
   "cell_type": "code",
   "execution_count": 23,
   "metadata": {
    "ExecuteTime": {
     "end_time": "2019-07-22T03:14:41.343815Z",
     "start_time": "2019-07-22T03:14:41.326814Z"
    }
   },
   "outputs": [
    {
     "ename": "ValueError",
     "evalue": "operands could not be broadcast together with shapes (2,3) (3,4) ",
     "output_type": "error",
     "traceback": [
      "\u001b[1;31m---------------------------------------------------------------------------\u001b[0m",
      "\u001b[1;31mValueError\u001b[0m                                Traceback (most recent call last)",
      "\u001b[1;32m<ipython-input-23-4d44e71b628c>\u001b[0m in \u001b[0;36m<module>\u001b[1;34m\u001b[0m\n\u001b[1;32m----> 1\u001b[1;33m \u001b[0ma1\u001b[0m \u001b[1;33m+\u001b[0m\u001b[0ma3\u001b[0m\u001b[1;33m\u001b[0m\u001b[1;33m\u001b[0m\u001b[0m\n\u001b[0m",
      "\u001b[1;31mValueError\u001b[0m: operands could not be broadcast together with shapes (2,3) (3,4) "
     ]
    }
   ],
   "source": [
    "a1 +a3  #这里报错，是因为两个ndarray 维度不一致，无法加法操作。可见 加减法必须两个ndarray维度一致"
   ]
  },
  {
   "cell_type": "code",
   "execution_count": 25,
   "metadata": {
    "ExecuteTime": {
     "end_time": "2019-07-22T03:16:23.382651Z",
     "start_time": "2019-07-22T03:16:23.372650Z"
    }
   },
   "outputs": [
    {
     "data": {
      "text/plain": [
       "((2, 3), (3, 4))"
      ]
     },
     "execution_count": 25,
     "metadata": {},
     "output_type": "execute_result"
    }
   ],
   "source": [
    "a1.shape ,a3.shape"
   ]
  },
  {
   "cell_type": "code",
   "execution_count": 26,
   "metadata": {
    "ExecuteTime": {
     "end_time": "2019-07-22T03:16:34.802304Z",
     "start_time": "2019-07-22T03:16:34.437283Z"
    },
    "scrolled": false
   },
   "outputs": [
    {
     "data": {
      "text/plain": [
       "array([[ 0.70687878, -2.88476275, -2.30424743, -2.54517553],\n",
       "       [-1.75480465, -7.57380843, -6.51523605, -3.34105812]])"
      ]
     },
     "execution_count": 26,
     "metadata": {},
     "output_type": "execute_result"
    }
   ],
   "source": [
    "a1.dot(a3)  #数组的点乘，相当于矩阵乘法 要注意维度，不满足矩阵乘法要求，会报错"
   ]
  },
  {
   "cell_type": "markdown",
   "metadata": {},
   "source": [
    "#### ndarray的数据访问"
   ]
  },
  {
   "cell_type": "code",
   "execution_count": 44,
   "metadata": {
    "ExecuteTime": {
     "end_time": "2019-07-22T03:35:05.238817Z",
     "start_time": "2019-07-22T03:35:05.224817Z"
    }
   },
   "outputs": [
    {
     "name": "stdout",
     "output_type": "stream",
     "text": [
      "[[0. 0. 0. 0. 0.]\n",
      " [1. 1. 1. 1. 1.]\n",
      " [2. 2. 2. 2. 2.]\n",
      " [3. 3. 3. 3. 3.]\n",
      " [4. 4. 4. 4. 4.]\n",
      " [5. 5. 5. 5. 5.]\n",
      " [6. 6. 6. 6. 6.]\n",
      " [7. 7. 7. 7. 7.]]\n",
      "--------------\n",
      "[[1. 1. 1. 1. 1.]\n",
      " [3. 3. 3. 3. 3.]\n",
      " [5. 5. 5. 5. 5.]]\n"
     ]
    }
   ],
   "source": [
    "#索引访问\n",
    "b1 = np.zeros((8,5))\n",
    "for i in range(b1.shape[0]): #对第i行全部赋值为i\n",
    "    b1[i] = i\n",
    "print(b1)\n",
    "print('--------------')\n",
    "print(b1[[1,3,5]])\n"
   ]
  },
  {
   "cell_type": "code",
   "execution_count": 45,
   "metadata": {
    "ExecuteTime": {
     "end_time": "2019-07-22T03:36:33.121844Z",
     "start_time": "2019-07-22T03:36:33.111843Z"
    }
   },
   "outputs": [
    {
     "data": {
      "text/plain": [
       "array([[1., 1.],\n",
       "       [2., 2.],\n",
       "       [3., 3.]])"
      ]
     },
     "execution_count": 45,
     "metadata": {},
     "output_type": "execute_result"
    }
   ],
   "source": [
    "#切片访问，获取前三行，前两列的数据\n",
    "b1[1:4,0:2]"
   ]
  },
  {
   "cell_type": "code",
   "execution_count": 53,
   "metadata": {
    "ExecuteTime": {
     "end_time": "2019-07-22T03:41:55.174264Z",
     "start_time": "2019-07-22T03:41:55.167264Z"
    }
   },
   "outputs": [
    {
     "data": {
      "text/plain": [
       "array([4., 4., 4., 4., 4., 5., 5., 5., 5., 5., 6., 6., 6., 6., 6., 7., 7.,\n",
       "       7., 7., 7.])"
      ]
     },
     "execution_count": 53,
     "metadata": {},
     "output_type": "execute_result"
    }
   ],
   "source": [
    "# 第三种，布林indexing \n",
    "b1[ b1>3] #返回的是一个一维的数组"
   ]
  },
  {
   "cell_type": "markdown",
   "metadata": {
    "ExecuteTime": {
     "end_time": "2019-07-22T03:43:21.153182Z",
     "start_time": "2019-07-22T03:43:21.149182Z"
    }
   },
   "source": [
    "#### 数学统计运算"
   ]
  },
  {
   "cell_type": "code",
   "execution_count": 55,
   "metadata": {
    "ExecuteTime": {
     "end_time": "2019-07-22T03:43:47.973716Z",
     "start_time": "2019-07-22T03:43:47.963716Z"
    }
   },
   "outputs": [
    {
     "data": {
      "text/plain": [
       "array([[0., 1., 2., 3., 4., 5., 6., 7.],\n",
       "       [0., 1., 2., 3., 4., 5., 6., 7.],\n",
       "       [0., 1., 2., 3., 4., 5., 6., 7.],\n",
       "       [0., 1., 2., 3., 4., 5., 6., 7.],\n",
       "       [0., 1., 2., 3., 4., 5., 6., 7.]])"
      ]
     },
     "execution_count": 55,
     "metadata": {},
     "output_type": "execute_result"
    }
   ],
   "source": [
    "b1.T #矩阵转置"
   ]
  },
  {
   "cell_type": "code",
   "execution_count": 58,
   "metadata": {
    "ExecuteTime": {
     "end_time": "2019-07-22T03:45:27.422404Z",
     "start_time": "2019-07-22T03:45:27.411404Z"
    }
   },
   "outputs": [
    {
     "data": {
      "text/plain": [
       "2.0"
      ]
     },
     "execution_count": 58,
     "metadata": {},
     "output_type": "execute_result"
    }
   ],
   "source": [
    "np.mean([1,2,3])"
   ]
  },
  {
   "cell_type": "code",
   "execution_count": 61,
   "metadata": {
    "ExecuteTime": {
     "end_time": "2019-07-22T03:46:21.942523Z",
     "start_time": "2019-07-22T03:46:21.931522Z"
    }
   },
   "outputs": [
    {
     "data": {
      "text/plain": [
       "(3.5, 7.0, 0.0)"
      ]
     },
     "execution_count": 61,
     "metadata": {},
     "output_type": "execute_result"
    }
   ],
   "source": [
    "b1.mean(),b1.max(),b1.min()"
   ]
  },
  {
   "cell_type": "markdown",
   "metadata": {},
   "source": [
    "- np.where(condition, x, y)  满足条件(condition)，输出x，不满足输出y。"
   ]
  },
  {
   "cell_type": "code",
   "execution_count": 65,
   "metadata": {
    "ExecuteTime": {
     "end_time": "2019-07-22T03:53:45.364885Z",
     "start_time": "2019-07-22T03:53:45.352884Z"
    }
   },
   "outputs": [
    {
     "name": "stdout",
     "output_type": "stream",
     "text": [
      "[[-0.15876871 -0.16046074 -0.02669914  0.1132621 ]\n",
      " [-0.5778095  -2.09169431 -1.08367755 -1.2121039 ]\n",
      " [ 0.78598575  1.04984935  1.68057298  0.60049314]\n",
      " [-0.26390488 -1.07360506  0.12752369  1.51414237]]\n",
      "--------分隔符------------\n",
      "[[-2 -2 -2  2]\n",
      " [-2 -2 -2 -2]\n",
      " [ 2  2  2  2]\n",
      " [-2 -2  2  2]]\n"
     ]
    }
   ],
   "source": [
    "# 数据批量处理\n",
    "arr = np.random.randn(4, 4)\n",
    "print(arr)\n",
    "print('--------分隔符------------')\n",
    "print(np.where(arr > 0, 2, -2))  #数组arr中 满足大于0的元素返回2 否则返回-2"
   ]
  },
  {
   "cell_type": "markdown",
   "metadata": {},
   "source": [
    "### pandas"
   ]
  },
  {
   "cell_type": "markdown",
   "metadata": {},
   "source": [
    "- 有两种数据结构 series 和 dataframe ,前者是一维的，相当于一维数组。 后者是二维的，相当于一张表格"
   ]
  },
  {
   "cell_type": "code",
   "execution_count": null,
   "metadata": {},
   "outputs": [],
   "source": []
  }
 ],
 "metadata": {
  "kernelspec": {
   "display_name": "Python 3",
   "language": "python",
   "name": "python3"
  },
  "language_info": {
   "codemirror_mode": {
    "name": "ipython",
    "version": 3
   },
   "file_extension": ".py",
   "mimetype": "text/x-python",
   "name": "python",
   "nbconvert_exporter": "python",
   "pygments_lexer": "ipython3",
   "version": "3.7.3"
  },
  "toc": {
   "base_numbering": 1,
   "nav_menu": {},
   "number_sections": true,
   "sideBar": true,
   "skip_h1_title": false,
   "title_cell": "Table of Contents",
   "title_sidebar": "Contents",
   "toc_cell": false,
   "toc_position": {},
   "toc_section_display": true,
   "toc_window_display": false
  },
  "varInspector": {
   "cols": {
    "lenName": 16,
    "lenType": 16,
    "lenVar": 40
   },
   "kernels_config": {
    "python": {
     "delete_cmd_postfix": "",
     "delete_cmd_prefix": "del ",
     "library": "var_list.py",
     "varRefreshCmd": "print(var_dic_list())"
    },
    "r": {
     "delete_cmd_postfix": ") ",
     "delete_cmd_prefix": "rm(",
     "library": "var_list.r",
     "varRefreshCmd": "cat(var_dic_list()) "
    }
   },
   "types_to_exclude": [
    "module",
    "function",
    "builtin_function_or_method",
    "instance",
    "_Feature"
   ],
   "window_display": false
  }
 },
 "nbformat": 4,
 "nbformat_minor": 2
}
