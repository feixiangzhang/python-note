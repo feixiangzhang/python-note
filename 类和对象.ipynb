{
 "cells": [
  {
   "cell_type": "markdown",
   "metadata": {},
   "source": [
    "### 类的定义，结构"
   ]
  },
  {
   "cell_type": "code",
   "execution_count": 46,
   "metadata": {},
   "outputs": [],
   "source": [
    "class Student():#可以看到类的定义，开头和函数定义分相似，只是关键字由def换成了class\n",
    "    __total_studentNum = 0 #类成员变量,__双下划线代表私有变量\n",
    "    studentsList = [] #类成员变量，所有实例共享\n",
    "    def __init__(self,name,age,gender): #实例方法，初始化函数，相当于构造函数，创建对象时，自动调用它去初始化对象\n",
    "        self.name = name #访问实例变量，必须通过self指针\n",
    "        self.age = age\n",
    "        self.gender = gender\n",
    "        self.__score = 0 #__双下划线开头的变量为私有变量，外部实例无法直接访问私有变量\n",
    "        self.examNum = 0\n",
    "        self.graduate = False\n",
    "        \n",
    "        Student.__total_studentNum +=1 #访问类成员变量，必须通过类名\n",
    "        Student.studentsList.append(name)\n",
    "    #实例方法，参数的第一个必须是self\n",
    "    def exam(self,score):\n",
    "        self.__score = score\n",
    "        if score < 60:\n",
    "            pass\n",
    "        else:\n",
    "            self.examNum+=1\n",
    "            if(self.examNum > 3):\n",
    "                self.graduate =True\n",
    "    \n",
    "    def getScore(self,):\n",
    "        return self.__score\n",
    "    \n",
    "    @classmethod #类方法 ，必须有cls参数，代表类指针\n",
    "    def getStuNum(cls,):\n",
    "        return Student.__total_studentNum\n",
    "    \n",
    "    @staticmethod\n",
    "    def getNamelist():#可以不加任何参数\n",
    "        return Student.studentsList\n",
    "        \n",
    "    "
   ]
  },
  {
   "cell_type": "code",
   "execution_count": 48,
   "metadata": {},
   "outputs": [],
   "source": [
    "zhangsan = Student('zhangsan',12,'male')\n",
    "lisi = Student('lisi',11,'female')"
   ]
  },
  {
   "cell_type": "code",
   "execution_count": 13,
   "metadata": {},
   "outputs": [
    {
     "data": {
      "text/plain": [
       "(12, 'female')"
      ]
     },
     "execution_count": 13,
     "metadata": {},
     "output_type": "execute_result"
    }
   ],
   "source": [
    "zhangsan.age,lisi.gender"
   ]
  },
  {
   "cell_type": "code",
   "execution_count": 14,
   "metadata": {},
   "outputs": [
    {
     "data": {
      "text/plain": [
       "(2, ['zhangsan', 'lisi'])"
      ]
     },
     "execution_count": 14,
     "metadata": {},
     "output_type": "execute_result"
    }
   ],
   "source": [
    "Student.total_studentNum,Student.studentsList"
   ]
  },
  {
   "cell_type": "code",
   "execution_count": 39,
   "metadata": {},
   "outputs": [
    {
     "data": {
      "text/plain": [
       "(1, 0)"
      ]
     },
     "execution_count": 39,
     "metadata": {},
     "output_type": "execute_result"
    }
   ],
   "source": [
    "zhangsan.exam(66)\n",
    "zhangsan.examNum,lisi.examNum"
   ]
  },
  {
   "cell_type": "code",
   "execution_count": 32,
   "metadata": {},
   "outputs": [
    {
     "ename": "AttributeError",
     "evalue": "'Student' object has no attribute '__score'",
     "output_type": "error",
     "traceback": [
      "\u001b[1;31m---------------------------------------------------------------------------\u001b[0m",
      "\u001b[1;31mAttributeError\u001b[0m                            Traceback (most recent call last)",
      "\u001b[1;32m<ipython-input-32-235762f74ba4>\u001b[0m in \u001b[0;36m<module>\u001b[1;34m\u001b[0m\n\u001b[1;32m----> 1\u001b[1;33m \u001b[0mzhangsan\u001b[0m\u001b[1;33m.\u001b[0m\u001b[0m__score\u001b[0m\u001b[1;33m\u001b[0m\u001b[1;33m\u001b[0m\u001b[0m\n\u001b[0m",
      "\u001b[1;31mAttributeError\u001b[0m: 'Student' object has no attribute '__score'"
     ]
    }
   ],
   "source": [
    "zhangsan.__score #实例无法直接访问私有变量"
   ]
  },
  {
   "cell_type": "code",
   "execution_count": 41,
   "metadata": {},
   "outputs": [
    {
     "data": {
      "text/plain": [
       "(66, 0)"
      ]
     },
     "execution_count": 41,
     "metadata": {},
     "output_type": "execute_result"
    }
   ],
   "source": [
    "#通过实例成员函数访问\n",
    "zhangsan.getScore(),lisi.getScore()"
   ]
  },
  {
   "cell_type": "code",
   "execution_count": 45,
   "metadata": {},
   "outputs": [
    {
     "data": {
      "text/plain": [
       "2"
      ]
     },
     "execution_count": 45,
     "metadata": {},
     "output_type": "execute_result"
    }
   ],
   "source": [
    "Student.getStuNum()"
   ]
  },
  {
   "cell_type": "code",
   "execution_count": 49,
   "metadata": {},
   "outputs": [
    {
     "data": {
      "text/plain": [
       "['zhangsan', 'lisi']"
      ]
     },
     "execution_count": 49,
     "metadata": {},
     "output_type": "execute_result"
    }
   ],
   "source": [
    "Student.getNamelist()"
   ]
  },
  {
   "cell_type": "markdown",
   "metadata": {},
   "source": [
    "### 类的继承和多态"
   ]
  },
  {
   "cell_type": "code",
   "execution_count": 50,
   "metadata": {},
   "outputs": [],
   "source": [
    "class Animal():\n",
    "    totalNum = 0\n",
    "    def __init__(self,speed,blood,attack):\n",
    "        self.speed = speed\n",
    "        self.blood = blood\n",
    "        self.attack = attack\n",
    "        \n",
    "    def eat(self,):\n",
    "        self.blood +=1\n",
    "        \n",
    "    def underAttack(self,):\n",
    "        self.blood -= 1\n",
    "        \n",
    "ani = Animal(5,50,1)\n",
    "        "
   ]
  },
  {
   "cell_type": "code",
   "execution_count": 51,
   "metadata": {},
   "outputs": [
    {
     "data": {
      "text/plain": [
       "50"
      ]
     },
     "execution_count": 51,
     "metadata": {},
     "output_type": "execute_result"
    }
   ],
   "source": [
    "ani.blood"
   ]
  },
  {
   "cell_type": "code",
   "execution_count": 52,
   "metadata": {},
   "outputs": [
    {
     "data": {
      "text/plain": [
       "(None, 51)"
      ]
     },
     "execution_count": 52,
     "metadata": {},
     "output_type": "execute_result"
    }
   ],
   "source": [
    "ani.eat(),ani.blood"
   ]
  },
  {
   "cell_type": "code",
   "execution_count": 54,
   "metadata": {},
   "outputs": [],
   "source": [
    "class Tiger(Animal):\n",
    "    def eat(self,):\n",
    "        self.blood +=5"
   ]
  },
  {
   "cell_type": "code",
   "execution_count": 55,
   "metadata": {},
   "outputs": [
    {
     "data": {
      "text/plain": [
       "(None, 505)"
      ]
     },
     "execution_count": 55,
     "metadata": {},
     "output_type": "execute_result"
    }
   ],
   "source": [
    "tiger = Tiger(25,500,100)\n",
    "tiger.eat(),tiger.blood"
   ]
  }
 ],
 "metadata": {
  "kernelspec": {
   "display_name": "Python 3",
   "language": "python",
   "name": "python3"
  },
  "language_info": {
   "codemirror_mode": {
    "name": "ipython",
    "version": 3
   },
   "file_extension": ".py",
   "mimetype": "text/x-python",
   "name": "python",
   "nbconvert_exporter": "python",
   "pygments_lexer": "ipython3",
   "version": "3.7.3"
  }
 },
 "nbformat": 4,
 "nbformat_minor": 2
}
